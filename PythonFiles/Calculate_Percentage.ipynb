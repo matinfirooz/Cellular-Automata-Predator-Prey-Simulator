{
  "nbformat": 4,
  "nbformat_minor": 0,
  "metadata": {
    "colab": {
      "provenance": []
    },
    "kernelspec": {
      "name": "python3",
      "display_name": "Python 3"
    },
    "language_info": {
      "name": "python"
    }
  },
  "cells": [
    {
      "cell_type": "code",
      "execution_count": 5,
      "metadata": {
        "colab": {
          "base_uri": "https://localhost:8080/"
        },
        "id": "K-VRL0XisexJ",
        "outputId": "e9fd9a97-1715-44f7-f522-fa59b27f0659"
      },
      "outputs": [
        {
          "output_type": "stream",
          "name": "stdout",
          "text": [
            "Value percentages:\n",
            "E: 79.92%\n",
            "S: 20.08%\n"
          ]
        }
      ],
      "source": [
        "from collections import Counter\n",
        "\n",
        "# Your data as a string\n",
        "data = \"\"\"\n",
        "E E S E E E E E S E E E E E E E E E E E E S E E S S S E E E E E S E E E E E E E E E E E S E E E E E\n",
        "E E S S E E E E E S S E E E E E E E E E S E E E E E E E E S E E E E E E E E S E E E S E E E E S E S\n",
        "E E E E E E S E E E E E E E E E E E E E S E E E E E E E E E E E E E E E E E E E E S E E E E E E E E\n",
        "E E E E E E E E E E E E E E E E S E E E S E E E E S E E E S E E E E S S E E E S E S E E S E E E E E\n",
        "S E E E E E S E E E E S E E E S E E E E E E E E E E E E E E S E E E E S E S E S E E E S E E E S E E\n",
        "E E E S S E E E E E E E E E E S E E E E E E E E E E E E E E S E E E E S E E E E E S E E E E E E E E\n",
        "E E S E E E E S E E E E E E E E E E E E E E E E E E S E E E S E E E E E E S S E E E E E S E E E E S\n",
        "E E E E S E E E E E E E E E S E E E E E E E E S E E S E E E E E E E E E S E E S S S E E S E E E E E\n",
        "E E E E E E E E E E E E S S E E E S E E S S E E E E S E E E E E E E E S E E S S S S S E E S E E S E\n",
        "E S E E E E S E E E S E S S E E E E S E S E E S E S S E E E S E E E S E E E E E E E S E E E E E E E\n",
        "E S E E E E E E E S E E E S E E E E E E E E E E E E E E E E S E S S S S E E E S S E E S E E E E E E\n",
        "E E E E E E E E E E E E E E E E E E S S E S E E E S E E S E S E E E S E E S E E E E E E E E S E S E\n",
        "E S E E E E E E E E E E E E E E S E E E E S E E E E E E E S S S E S E E E E E E S S S E E E E E S E\n",
        "E S E E E E E E E E S E E S E E E E E E E E E E S E E E E S S E E E E E S E E E E E E E E E E S E E\n",
        "E S E E E E S E E E E E E E E E E E E E E S E E S E E E E E E E E S S E S E E S S E S E E E S E E E\n",
        "E E E E S E E E S E E S E S E E E E E E E E E S E E S S E E S E E E E E E E E S S S E E S E E E E E\n",
        "E E E E E E E E E E S E E S E E E E S E E E S E E S E S E S E E S E S E S S E E E E E E E E S S E E\n",
        "E S E S E S E S S S E E E E E S E S E S S S E E E S E E E E E E E E E E S E E E S S E E E E E S S S\n",
        "E E E E E E E E E S E E E E E E E E E E E E E E E S E E E E S E E E E S E E S E S E E S E S E E E E\n",
        "E E E S E E E E E E E E E S E E E S S E E S E E E E E E S E S E E E E E S E E E S E E E S E E E E E\n",
        "E E E S E S E E E E E E E S E S E E E S S E E S E E S E E S S E E S E E S E S E E S E E E E E E E E\n",
        "E E E E E E E E S E E E S E E E E E E E E E E E E S E E S E E E E E E E E S E E E E E S E E E E E E\n",
        "S E E S E E S E E E E E E S S E E E S E S E E E E E E E E E E S S E S E E E S E E E S E S E E E E E\n",
        "S E E E S S E S E E S E S S E E E E E E E E S S E E E E E E E S E E E E S E E E E S S E E E E E E E\n",
        "E E E E E E E S E E E E S E E E E E E E E S E S E E E E E E E E E E E E E E E E E E E E E E E E E E\n",
        "S S E E S E E S E E S E S E E E E E E E S E E E E E S S S E S S S E E E S E E E E E E E E S E E E E\n",
        "S E E E S E S E E E E S E E E E S E S E E E E E E E E S E E S E E E E E E E E E E E E E E S E S E E\n",
        "S S E E E S E S E E E E E E E E E E E E E E S E S E E E S E E S E E E S E S E E E E E E E E S E E E\n",
        "E E E E E E E S E S E E E E E E S E E E E E E E E E E E E E E E S E E E E E E E E E S E E E S E E E\n",
        "E E E E E E E E E E E E E E E E E E E E E E S E E E E E E S E E E S E E E E E E S E E E E E E E S E\n",
        "E S E E E E E E E E E E S S E E E E E E E E E E S E S S E E E E E E E E E E S S E E E E E E E E E E\n",
        "E E E S E E S E E E E E E E E S E E E E E E S E E S S S S E E S E E E S S E E E E E E E E E E E S E\n",
        "E E E E E S E E E E E S E E S E E E S E E E E E E E S E E E S E E S E E E E S E S E E E E E E E E E\n",
        "S E E E E E S E E E E E S E E S E E E E E E E S E S E E S E S E E E E E E E E E S E E S E E E E E E\n",
        "E E E E E E E E E E E S E E E E E S E E E E E E E E E E E E S S E E S E E E S E E E E E E E E S E E\n",
        "E E S E E E E E E E E E E E E S E E E S S E E E E E S E E E E E E E E E E E E E S E E E E S S E E E\n",
        "E E E S E E E E E E E E E E E E S E S E S E E S E E E E E E E E S E E E E S E E E S E E E E E E E E\n",
        "S E E E S S E S E E E E S E E E E E S E E E E E S E E E E E E E S E E E E E E S E E E S S E E E E E\n",
        "E E E S E S E E E E E E S S E E S E S E E E S S E E E E E E E E E E E S S E S E E E E E E S S E E E\n",
        "E E E E E E E E E E E S S E E E E E S E S S E E E E S E S E E E E E S E E E S E E E S E E E E E E E\n",
        "E E E S E E E E E E S E S E E S E E E E E E E E E S E E S E E E E E E S E S S S E E E E E E E S S S\n",
        "S E E E S E E E S E E E E E E S E S E E E E E E S E E E E E E E S E E E E E S E E S S E E E E E E E\n",
        "E E E E E E S E E E E E E E E E E S E E S E E E S S E E E E E E E E S E S S E E E E E E S E S E E E\n",
        "E E E E S S E E E E E E E E E E E S E E E E E S E E E E E S S E E E E E E E S E E E E E E E E E E E\n",
        "E E E S S E E E E S E S S E E E S E E E S S E E S E E E S E E E S E S E E E E E E E S S E E E E E E\n",
        "E E E E E E S S E E S E E E E S E E S E E E S E E E E E E E E E E E E S E S E E E S E E S S E E E E\n",
        "E S S E E E E E E E E E E S E E S E E E E E E S E E S E E E E E E E E E E E E E E E E E E E E E E E\n",
        "S S E E E S E S S E E E E E E E E E E E E S S E E S S E S S S E E E S E S E E E E E E E E E S E E E\n",
        "E S E S E E S E E S S E E E E E E E E E E E S S E E S E E E S E E E E E S S E S S E S S E E E E E E\n",
        "E E E E E E E E E E S S E E E E E E S E E E E E E E E E S E E E E E E E S E E E E E S E E E E E E E\n",
        "\"\"\"\n",
        "\n",
        "# Split the data into individual values\n",
        "values = data.split()\n",
        "\n",
        "# Count the occurrences of each unique value\n",
        "value_counts = Counter(values)\n",
        "\n",
        "# Calculate the total number of values\n",
        "total_values = sum(value_counts.values())\n",
        "\n",
        "# Calculate the percentage for each value\n",
        "percentages = {key: (value / total_values) * 100 for key, value in value_counts.items()}\n",
        "\n",
        "# Print the results\n",
        "print(\"Value percentages:\")\n",
        "for value, percentage in percentages.items():\n",
        "    print(f\"{value}: {percentage:.2f}%\")\n"
      ]
    }
  ]
}