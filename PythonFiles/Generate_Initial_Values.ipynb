{
  "nbformat": 4,
  "nbformat_minor": 0,
  "metadata": {
    "colab": {
      "provenance": []
    },
    "kernelspec": {
      "name": "python3",
      "display_name": "Python 3"
    },
    "language_info": {
      "name": "python"
    }
  },
  "cells": [
    {
      "cell_type": "code",
      "execution_count": null,
      "metadata": {
        "colab": {
          "base_uri": "https://localhost:8080/"
        },
        "id": "HBSPH5U36Oqv",
        "outputId": "943a7d07-e9d9-4ee5-d986-84f1ee23a3d2"
      },
      "outputs": [
        {
          "output_type": "stream",
          "name": "stdout",
          "text": [
            "Initial values saved to C:\\initial_values.txt\n"
          ]
        }
      ],
      "source": [
        "import numpy as np\n",
        "import os\n",
        "\n",
        "# Constants\n",
        "SIZE = 50\n",
        "FISH_RATIO = 0.40\n",
        "SHARK_RATIO = 0.20\n",
        "EMPTY_RATIO = 0.40\n",
        "\n",
        "# Generate initial values\n",
        "initial_values = np.random.choice(\n",
        "    [1, 2, 0],  # 1 for FISH, 2 for SHARK, 0 for EMPTY\n",
        "    p=[FISH_RATIO, SHARK_RATIO, EMPTY_RATIO],\n",
        "    size=(SIZE, SIZE)\n",
        ")\n",
        "\n",
        "# Choose the path where you want to save the file\n",
        "file_path = \"C:\\initial_values.txt\"\n",
        "\n",
        "# Ensure the directory exists\n",
        "directory = os.path.dirname(file_path)\n",
        "if directory:\n",
        "    os.makedirs(directory, exist_ok=True)\n",
        "\n",
        "# Save initial values to a file\n",
        "np.savetxt(file_path, initial_values, fmt='%d')\n",
        "\n",
        "print(f\"Initial values saved to {file_path}\")\n"
      ]
    }
  ]
}